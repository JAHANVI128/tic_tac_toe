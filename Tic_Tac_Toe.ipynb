{
  "nbformat": 4,
  "nbformat_minor": 0,
  "metadata": {
    "colab": {
      "provenance": [],
      "mount_file_id": "11W_UNBmJnQhMI_ts2LFOKd_dBhiyQv3L",
      "authorship_tag": "ABX9TyOFpAHpJIbJET23URNSHR/+"
    },
    "kernelspec": {
      "name": "python3",
      "display_name": "Python 3"
    },
    "language_info": {
      "name": "python"
    }
  },
  "cells": [
    {
      "cell_type": "code",
      "source": [
        "import os\n",
        "\n",
        "board = [\" \",\" \",\" \",\" \",\" \",\" \",\" \",\" \",\" \"]\n",
        "player = 1\n",
        "Win = 1\n",
        "Draw = -1\n",
        "Running = 0\n",
        "Stop = 1\n",
        "Game = Running\n",
        "Mark = 'X'\n",
        "\n",
        "def DrawBoard():\n",
        "  print(\" %c | %c |%c \" % (board[0],board[1],board[2]))\n",
        "  print(\"___|___|___\")\n",
        "  print(\" %c | %c |%c \" % (board[3],board[4],board[5]))\n",
        "  print(\"___|___|___\")  \n",
        "  print(\" %c | %c |%c \" % (board[6],board[7],board[8]))\n",
        "  print(\"   |   |   \")\n",
        "\n",
        "def CheckPosition(x):\n",
        "  if(board[x] == ' '):\n",
        "    return True\n",
        "  else:\n",
        "    return False\n",
        "\n",
        "def CheckWin():\n",
        "  global Game\n",
        "\n",
        "  if(board[0] == board[1] and board[1] == board[2] and board[0] != ' '):\n",
        "    Game = Win\n",
        "  elif(board[3] == board[4] and board[4] == board[5] and board[3] != ' '):\n",
        "    Game = Win\n",
        "  elif(board[6] == board[7] and board[7] == board[8] and board[6] != ' '):\n",
        "    Game = Win\n",
        "\n",
        "  elif(board[0] == board[3] and board[3] == board[6] and board[3] != ' '):\n",
        "    Game = Win\n",
        "  elif(board[1] == board[4] and board[4] == board[7] and board[1] != ' '):\n",
        "    Game = Win\n",
        "  elif(board[2] == board[5] and board[5] == board[8] and board[2] != ' '):\n",
        "    Game = Win\n",
        "\n",
        "  elif(board[0] == board[4] and board[4] == board[8] and board[0] != ' '):\n",
        "    Game = Win\n",
        "  elif(board[2] == board[4] and board[4] == board[6] and board[2] != ' '):\n",
        "    Game = Win\n",
        "\n",
        "  elif(board[0] != ' ' and board[1] != ' ' and board[2] != ' ' and board[3] != ' ' and board[4] != ' ' and board[5] != ' ' and board[6] != ' ' and board[7] != ' ' and board[8] != ' '):\n",
        "    Game = Draw\n",
        "  \n",
        "  else:\n",
        "    Game = Running\n",
        "\n",
        "print(\"Tic-Tac-Toe Game\")\n",
        "print(\"Player 1 [X] --- Player 2 [O]\")\n",
        "print()\n",
        "print(\"Please wait...\")\n",
        "while(Game == Running):\n",
        "  os.system(\"cls\")\n",
        "  DrawBoard()\n",
        "  if(player % 2 != 0):\n",
        "    print(\"Player 1's chance\")\n",
        "    Mark = 'X'\n",
        "  else:\n",
        "    print(\"Player 2's chance\")\n",
        "    Mark = 'O'\n",
        "  choice = int(input(\"Enter position between 0-8 where you want to mark:\"))\n",
        "  if(CheckPosition(choice)):\n",
        "    board[choice] = Mark\n",
        "    player += 1\n",
        "    CheckWin()\n",
        "\n",
        "os.system(\"cls\")\n",
        "DrawBoard()\n",
        "if(Game == Draw):\n",
        "  print(\"Game Draw\")\n",
        "elif(Game == Win):\n",
        "  player -= 1\n",
        "  if(player % 2 != 0):\n",
        "    print(\"Player 1 won\")\n",
        "  else:\n",
        "    print(\"Player 2 won\")"
      ],
      "metadata": {
        "colab": {
          "base_uri": "https://localhost:8080/"
        },
        "id": "t4dZRR2Cikm0",
        "outputId": "45e84554-cace-47c4-b54d-c7e1d2021f66"
      },
      "execution_count": null,
      "outputs": [
        {
          "output_type": "stream",
          "name": "stdout",
          "text": [
            "Tic-Tac-Toe Game\n",
            "Player 1 [X] --- Player 2 [O]\n",
            "\n",
            "Please wait...\n",
            "   |   |  \n",
            "___|___|___\n",
            "   |   |  \n",
            "___|___|___\n",
            "   |   |  \n",
            "   |   |   \n",
            "Player 1's chance\n"
          ]
        }
      ]
    }
  ]
}